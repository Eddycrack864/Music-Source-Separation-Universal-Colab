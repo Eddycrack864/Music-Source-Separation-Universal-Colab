{
  "cells": [
    {
      "cell_type": "markdown",
      "metadata": {
        "id": "view-in-github",
        "colab_type": "text"
      },
      "source": [
        "<a href=\"https://colab.research.google.com/github/Eddycrack864/Music-Source-Separation-Universal-Colab/blob/main/Music_Source_Separation_Universal_Colab.ipynb\" target=\"_parent\"><img src=\"https://colab.research.google.com/assets/colab-badge.svg\" alt=\"Open In Colab\"/></a>"
      ]
    },
    {
      "cell_type": "markdown",
      "source": [
        "#Music Source Separation Universal\n",
        "Repository for training models for music source separation. Repository is based on [kuielab code](https://github.com/kuielab/sdx23/tree/mdx_AB/my_submission/src) for [SDX23 challenge](https://github.com/kuielab/sdx23/tree/mdx_AB/my_submission/src). The main idea of this repository is to create training code, which is easy to modify for experiments. Brought to you by [MVSep.com](https://mvsep.com).\n",
        "\n",
        "Repository by: [ZFTurbo](https://github.com/ZFTurbo)\n",
        "Colab by: [Not Eddy (Spanish Mod)](http://discord.com/users/274566299349155851) on [AI HUB](https://discord.gg/aihub)"
      ],
      "metadata": {
        "id": "hHmUt2jfQaO1"
      }
    },
    {
      "cell_type": "code",
      "execution_count": null,
      "metadata": {
        "id": "-Hj31-z9A9ng",
        "cellView": "form"
      },
      "outputs": [],
      "source": [
        "#@title Setup\n",
        "import requests\n",
        "import zipfile\n",
        "from io import BytesIO\n",
        "from google.colab import drive\n",
        "from tqdm import tqdm\n",
        "from IPython.display import clear_output\n",
        "!git clone https://github.com/ZFTurbo/Music-Source-Separation-Training.git\n",
        "!pip install -r Music-Source-Separation-Training/requirements.txt\n",
        "clear_output()\n",
        "print(\"Installation complete!. Starting downloading the models...\")\n",
        "zip_url = \"https://huggingface.co/Eddycrack864/Music-Source-Separation-Universal/resolve/main/Models.zip\"\n",
        "response = requests.get(zip_url, stream=True)\n",
        "total_size = int(response.headers.get('content-length', 0))\n",
        "block_size = 1024\n",
        "with BytesIO() as zip_data:\n",
        "    with tqdm(total=total_size, unit='iB', unit_scale=True) as pbar:\n",
        "        for data in response.iter_content(block_size):\n",
        "            pbar.update(len(data))\n",
        "            zip_data.write(data)\n",
        "    zip_data.seek(0)\n",
        "    print(\"Successful download, extracting...\")\n",
        "    with zipfile.ZipFile(zip_data, 'r') as zip_ref:\n",
        "        zip_ref.extractall(\"Models\")\n",
        "drive.mount('/content/drive')\n",
        "clear_output()\n",
        "print(\"Ready!\")"
      ]
    },
    {
      "cell_type": "code",
      "source": [
        "#@markdown #Separation\n",
        "%cd /content/Music-Source-Separation-Training\n",
        "from pathlib import Path\n",
        "import glob\n",
        "\n",
        "input_folder = '/content/drive/MyDrive/Separar' #@param {type:\"string\"}\n",
        "output_folder = '/content/drive/MyDrive/Vocales' #@param {type:\"string\"}\n",
        "model = 'MDX23C Inst' #@param [\"MDX23C Inst\", \"MDX23C Vocals\", \"Demucs4HT\", \"VitLarge23\", \"Mel-Band RoFormer\", \"Swin Upernet\", \"BandIt Plus\"]\n",
        "#@markdown **Notes:**\n",
        "\n",
        "#@markdown **It only works with audio in .wav format**\n",
        "\n",
        "#@markdown **Demucs4HT** only works with audios that are 2 minutes long or shorter.\n",
        "\n",
        "#@markdown **Mel-Band RoFormer** currently broken if you know how to fix it ping me.\n",
        "\n",
        "#@markdown **Swin Upernet** currently broken if you know how to fix it ping me.\n",
        "if model == 'MDX23C Inst':\n",
        "    model_type= 'mdx23c'\n",
        "    config_path = '/content/Models/config_musdb18_mdx23c.yaml'\n",
        "    start_check_point = '/content/Models/model_mdx23c_ep_168_sdr_7.0207.ckpt'\n",
        "\n",
        "elif model == 'MDX23C Vocals':\n",
        "    model_type= 'mdx23c'\n",
        "    config_path =  '/content/Models/config_vocals_mdx23c.yaml'\n",
        "    start_check_point = '/content/Models/model_vocals_mdx23c_sdr_10.17.ckpt'\n",
        "\n",
        "elif model == 'Demucs4HT':\n",
        "    model_type= 'htdemucs'\n",
        "    config_path = '/content/Models/config_vocals_htdemucs.yaml'\n",
        "    start_check_point = '/content/Models/model_vocals_htdemucs_sdr_8.78.ckpt'\n",
        "\n",
        "elif model == 'VitLarge23':\n",
        "    model_type= 'segm_models'\n",
        "    config_path = '/content/Models/config_vocals_segm_models.yaml'\n",
        "    start_check_point = '/content/Models/model_vocals_segm_models_sdr_9.77.ckpt'\n",
        "\n",
        "elif model == 'Mel-Band RoFormer':\n",
        "    model_type= 'mel_band_roformer'\n",
        "    config_path = '/content/Models/config_vocals_mel_band_roformer.yaml'\n",
        "    start_check_point = '/content/Models/model_vocals_mel_band_roformer_sdr_8.42.ckpt'\n",
        "\n",
        "elif model == 'Swin Upernet':\n",
        "    model_type= 'swin_upernet'\n",
        "    config_path = '/content/Models/config_vocals_swin_upernet.yaml'\n",
        "    start_check_point = '/content/Models/model_swin_upernet_ep_56_sdr_10.6703.ckpt'\n",
        "\n",
        "elif model == 'BandIt Plus':\n",
        "    model_type= 'bandit'\n",
        "    config_path = '/content/Models/config_dnr_bandit_bsrnn_multi_mus64.yaml'\n",
        "    start_check_point = '/content/Models/model_bandit_plus_dnr_sdr_11.47.chpt'\n",
        "\n",
        "Path(output_folder).mkdir(parents=True, exist_ok=True)\n",
        "!python inference.py \\\n",
        "        --model_type {model_type} \\\n",
        "        --input_folder {input_folder} \\\n",
        "        --store_dir {output_folder} \\\n",
        "        --device_ids 0 \\\n",
        "        --config_path {config_path} \\\n",
        "        --start_check_point {start_check_point}"
      ],
      "metadata": {
        "id": "Mb7zrG7DSCle",
        "cellView": "form"
      },
      "execution_count": null,
      "outputs": []
    },
    {
      "cell_type": "markdown",
      "source": [
        "# Models\n",
        "\n",
        "Model can be chosen with `--model_type` arg.\n",
        "\n",
        "Available models:\n",
        "* MDX23C based on [KUIELab TFC TDF v3 architecture](https://github.com/kuielab/sdx23/). Key: `mdx23c`.\n",
        "* Demucs4HT [[Paper](https://arxiv.org/abs/2211.08553)]. Key: `htdemucs`.\n",
        "* VitLarge23 based on [Segmentation Models Pytorch](https://github.com/qubvel/segmentation_models.pytorch). Key: `segm_models`.\n",
        "* Mel-Band RoFormer [[Paper](https://arxiv.org/abs/2310.01809), [Repository](https://github.com/lucidrains/BS-RoFormer)]. Key: `mel_band_roformer`.\n",
        "* Swin Upernet [[Paper](https://arxiv.org/abs/2103.14030)] Key: `swin_upernet`.\n",
        "* BandIt Plus [[Paper](https://arxiv.org/abs/2309.02539), [Repository](https://github.com/karnwatcharasupat/bandit)] Key: `bandit`.\n",
        "\n",
        "\n",
        "# Vocal models\n",
        "| Model Type | Instruments | Metrics (SDR) |\n",
        "|:-------------:|:-------------:|:-----:|\n",
        "| MDX23C | vocals / other | SDR vocals: 10.17 |\n",
        "| HT Demucs | vocals / other | SDR vocals: 8.78 |\n",
        "| Segm Models (VitLarge23) | vocals / other | SDR vocals: 9.77 |\n",
        "| Mel Band RoFormer | vocals (*) / other | SDR vocals: 8.42 |\n",
        "| Swin Upernet | vocals / other | SDR vocals: 7.57 |\n",
        "\n",
        "**Note**: Metrics measured on [Multisong Dataset](https://mvsep.com/en/quality_checker).\n",
        "\n",
        "# Multi-stem models\n",
        "\n",
        "| Model Type | Instruments | Metrics (SDR) |\n",
        "|:-------------:|:-------------:|:-----:|\n",
        "| MDX23C | bass / drums / vocals / other | MUSDB test avg: 7.15 (bass: 5.77, drums: 7.93 vocals: 9.23 other: 5.68) Multisong avg: 7.02 (bass: 8.40, drums: 7.73 vocals: 7.36 other: 4.57) |\n",
        "| BandIt Plus | speech / music / effects | DnR test avg: 11.50 (speech: 15.64, music: 9.18 effects: 9.69) |\n",
        "\n",
        "**Note**: Models were trained only on MUSDB18HQ dataset (100 songs train data)"
      ],
      "metadata": {
        "id": "MjiOhpfSYTnx"
      }
    }
  ],
  "metadata": {
    "colab": {
      "provenance": [],
      "gpuType": "T4",
      "authorship_tag": "ABX9TyPDeP6Kqll+MpakI1msS9h9",
      "include_colab_link": true
    },
    "kernelspec": {
      "display_name": "Python 3",
      "name": "python3"
    },
    "language_info": {
      "name": "python"
    },
    "accelerator": "GPU"
  },
  "nbformat": 4,
  "nbformat_minor": 0
}